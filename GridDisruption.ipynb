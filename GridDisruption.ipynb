{
 "cells": [
  {
   "cell_type": "markdown",
   "metadata": {},
   "source": [
    "Exercise7: DataCleaning  \n",
    "\n",
    "15 Years of Power Outages  \n",
    "Note: some ideas and suggestions are from Andre Armstrong's Jupyter notebook \"How long does an outage last?\"  \n",
    "  \n"
   ]
  },
  {
   "cell_type": "code",
   "execution_count": 134,
   "metadata": {},
   "outputs": [],
   "source": [
    "import pandas as pd\n",
    "import numpy as np\n",
    "import chardet\n",
    "import matplotlib.pyplot as plt"
   ]
  },
  {
   "cell_type": "code",
   "execution_count": 135,
   "metadata": {},
   "outputs": [],
   "source": [
    "# df = pd.read_csv('http://localhost:8888/notebooks/Documents/Martina/Aufgabe7/Grid_Disruption_00_14_standardized.csv')\n",
    "# must be logged in at kaggle.com to read the data, so we created a local copy\n",
    "# df = pd.read_csv('https://www.kaggle.com/autunno/15-years-of-power-outages/downloads/Grid_Disruption_00_14_standardized%20-%20Grid_Disruption_00_14_standardized.csv')\n",
    "# df = pd.read_csv('C:\\\\Users\\\\ahlswede\\\\Documents\\\\Martina\\\\Aufgabe7\\\\Grid_Disruption_00_14_standardized.csv')\n",
    "# loading from github\n",
    "df = pd.read_csv('https://raw.githubusercontent.com/mahlswede/DataCleaningExercise/master/Grid_Disruption_00_14_standardized.csv')"
   ]
  },
  {
   "cell_type": "code",
   "execution_count": 136,
   "metadata": {
    "scrolled": false
   },
   "outputs": [
    {
     "data": {
      "text/html": [
       "<div>\n",
       "<style scoped>\n",
       "    .dataframe tbody tr th:only-of-type {\n",
       "        vertical-align: middle;\n",
       "    }\n",
       "\n",
       "    .dataframe tbody tr th {\n",
       "        vertical-align: top;\n",
       "    }\n",
       "\n",
       "    .dataframe thead th {\n",
       "        text-align: right;\n",
       "    }\n",
       "</style>\n",
       "<table border=\"1\" class=\"dataframe\">\n",
       "  <thead>\n",
       "    <tr style=\"text-align: right;\">\n",
       "      <th></th>\n",
       "      <th>Event Description</th>\n",
       "      <th>Year</th>\n",
       "      <th>Date Event Began</th>\n",
       "      <th>Time Event Began</th>\n",
       "      <th>Date of Restoration</th>\n",
       "      <th>Time of Restoration</th>\n",
       "      <th>Respondent</th>\n",
       "      <th>Geographic Areas</th>\n",
       "      <th>NERC Region</th>\n",
       "      <th>Demand Loss (MW)</th>\n",
       "      <th>Number of Customers Affected</th>\n",
       "      <th>Tags</th>\n",
       "    </tr>\n",
       "  </thead>\n",
       "  <tbody>\n",
       "    <tr>\n",
       "      <th>0</th>\n",
       "      <td>Severe Weather - Thunderstorms</td>\n",
       "      <td>2014</td>\n",
       "      <td>6/30/2014</td>\n",
       "      <td>8:00 PM</td>\n",
       "      <td>7/2/2014</td>\n",
       "      <td>6:30 PM</td>\n",
       "      <td>Exelon Corporation/ComEd</td>\n",
       "      <td>Illinois</td>\n",
       "      <td>RFC</td>\n",
       "      <td>Unknown</td>\n",
       "      <td>420,000</td>\n",
       "      <td>severe weather, thunderstorm</td>\n",
       "    </tr>\n",
       "    <tr>\n",
       "      <th>1</th>\n",
       "      <td>Severe Weather - Thunderstorms</td>\n",
       "      <td>2014</td>\n",
       "      <td>6/30/2014</td>\n",
       "      <td>11:20 PM</td>\n",
       "      <td>7/1/2014</td>\n",
       "      <td>5:00 PM</td>\n",
       "      <td>Northern Indiana Public Service Company</td>\n",
       "      <td>North Central Indiana</td>\n",
       "      <td>RFC</td>\n",
       "      <td>Unknown</td>\n",
       "      <td>127,000</td>\n",
       "      <td>severe weather, thunderstorm</td>\n",
       "    </tr>\n",
       "    <tr>\n",
       "      <th>2</th>\n",
       "      <td>Severe Weather - Thunderstorms</td>\n",
       "      <td>2014</td>\n",
       "      <td>6/30/2014</td>\n",
       "      <td>5:55 PM</td>\n",
       "      <td>7/1/2014</td>\n",
       "      <td>2:53 AM</td>\n",
       "      <td>We Energies</td>\n",
       "      <td>Southeast  Wisconsin</td>\n",
       "      <td>MRO</td>\n",
       "      <td>424</td>\n",
       "      <td>120,000</td>\n",
       "      <td>severe weather, thunderstorm</td>\n",
       "    </tr>\n",
       "    <tr>\n",
       "      <th>3</th>\n",
       "      <td>Fuel Supply Emergency - Coal</td>\n",
       "      <td>2014</td>\n",
       "      <td>6/27/2014</td>\n",
       "      <td>1:21 PM</td>\n",
       "      <td>Unknown</td>\n",
       "      <td>Unknown</td>\n",
       "      <td>We Energies</td>\n",
       "      <td>Wisconsin</td>\n",
       "      <td>MRO</td>\n",
       "      <td>Unknown</td>\n",
       "      <td>Unknown</td>\n",
       "      <td>fuel supply emergency, coal</td>\n",
       "    </tr>\n",
       "    <tr>\n",
       "      <th>4</th>\n",
       "      <td>Physical Attack - Vandalism</td>\n",
       "      <td>2014</td>\n",
       "      <td>6/24/2014</td>\n",
       "      <td>2:54 PM</td>\n",
       "      <td>6/24/2014</td>\n",
       "      <td>2:55 PM</td>\n",
       "      <td>Tennessee Valley Authority</td>\n",
       "      <td>Nashville, Tennessee</td>\n",
       "      <td>SERC</td>\n",
       "      <td>Unknown</td>\n",
       "      <td>Unknown</td>\n",
       "      <td>vandalism, physical</td>\n",
       "    </tr>\n",
       "    <tr>\n",
       "      <th>5</th>\n",
       "      <td>Physical Attack - Vandalism</td>\n",
       "      <td>2014</td>\n",
       "      <td>6/19/2014</td>\n",
       "      <td>8:47 AM</td>\n",
       "      <td>6/19/2014</td>\n",
       "      <td>8:48 AM</td>\n",
       "      <td>Tennessee Valley Authority</td>\n",
       "      <td>Nashville, Tennessee</td>\n",
       "      <td>SERC</td>\n",
       "      <td>Unknown</td>\n",
       "      <td>Unknown</td>\n",
       "      <td>vandalism, physical</td>\n",
       "    </tr>\n",
       "    <tr>\n",
       "      <th>6</th>\n",
       "      <td>Physical Attack - Vandalism</td>\n",
       "      <td>2014</td>\n",
       "      <td>6/18/2014</td>\n",
       "      <td>9:52 AM</td>\n",
       "      <td>6/18/2014</td>\n",
       "      <td>7:00 PM</td>\n",
       "      <td>Public Utility District No.1 of Snohomish Coun...</td>\n",
       "      <td>Washington</td>\n",
       "      <td>WECC</td>\n",
       "      <td>Unknown</td>\n",
       "      <td>Unknown</td>\n",
       "      <td>vandalism, physical</td>\n",
       "    </tr>\n",
       "    <tr>\n",
       "      <th>7</th>\n",
       "      <td>Severe Weather - Thunderstorms</td>\n",
       "      <td>2014</td>\n",
       "      <td>6/18/2014</td>\n",
       "      <td>5:00 PM</td>\n",
       "      <td>6/20/2014</td>\n",
       "      <td>3:00 PM</td>\n",
       "      <td>Detroit Edison Co</td>\n",
       "      <td>Southeast Michigan</td>\n",
       "      <td>RFC</td>\n",
       "      <td>Unknown</td>\n",
       "      <td>138,802</td>\n",
       "      <td>severe weather, thunderstorm</td>\n",
       "    </tr>\n",
       "    <tr>\n",
       "      <th>8</th>\n",
       "      <td>Severe Weather - Thunderstorms</td>\n",
       "      <td>2014</td>\n",
       "      <td>6/15/2014</td>\n",
       "      <td>12:00 AM</td>\n",
       "      <td>6/15/2014</td>\n",
       "      <td>1:00 AM</td>\n",
       "      <td>Xcel Energy</td>\n",
       "      <td>Central Minnesota</td>\n",
       "      <td>MRO</td>\n",
       "      <td>Unknown</td>\n",
       "      <td>55,951</td>\n",
       "      <td>severe weather, thunderstorm</td>\n",
       "    </tr>\n",
       "    <tr>\n",
       "      <th>9</th>\n",
       "      <td>Suspected Physical Attack</td>\n",
       "      <td>2014</td>\n",
       "      <td>6/12/2014</td>\n",
       "      <td>9:10 AM</td>\n",
       "      <td>6/12/2014</td>\n",
       "      <td>9:11 AM</td>\n",
       "      <td>Luminant Energy Company, LLC</td>\n",
       "      <td>Somervell County, Texas</td>\n",
       "      <td>ERCOT</td>\n",
       "      <td>Unknown</td>\n",
       "      <td>Unknown</td>\n",
       "      <td>vandalism, physical</td>\n",
       "    </tr>\n",
       "  </tbody>\n",
       "</table>\n",
       "</div>"
      ],
      "text/plain": [
       "                Event Description  Year Date Event Began Time Event Began  \\\n",
       "0  Severe Weather - Thunderstorms  2014        6/30/2014          8:00 PM   \n",
       "1  Severe Weather - Thunderstorms  2014        6/30/2014         11:20 PM   \n",
       "2  Severe Weather - Thunderstorms  2014        6/30/2014          5:55 PM   \n",
       "3    Fuel Supply Emergency - Coal  2014        6/27/2014          1:21 PM   \n",
       "4     Physical Attack - Vandalism  2014        6/24/2014          2:54 PM   \n",
       "5     Physical Attack - Vandalism  2014        6/19/2014          8:47 AM   \n",
       "6     Physical Attack - Vandalism  2014        6/18/2014          9:52 AM   \n",
       "7  Severe Weather - Thunderstorms  2014        6/18/2014          5:00 PM   \n",
       "8  Severe Weather - Thunderstorms  2014        6/15/2014         12:00 AM   \n",
       "9       Suspected Physical Attack  2014        6/12/2014          9:10 AM   \n",
       "\n",
       "  Date of Restoration Time of Restoration  \\\n",
       "0            7/2/2014             6:30 PM   \n",
       "1            7/1/2014             5:00 PM   \n",
       "2            7/1/2014             2:53 AM   \n",
       "3             Unknown             Unknown   \n",
       "4           6/24/2014             2:55 PM   \n",
       "5           6/19/2014             8:48 AM   \n",
       "6           6/18/2014             7:00 PM   \n",
       "7           6/20/2014             3:00 PM   \n",
       "8           6/15/2014             1:00 AM   \n",
       "9           6/12/2014             9:11 AM   \n",
       "\n",
       "                                          Respondent         Geographic Areas  \\\n",
       "0                           Exelon Corporation/ComEd                 Illinois   \n",
       "1            Northern Indiana Public Service Company    North Central Indiana   \n",
       "2                                        We Energies     Southeast  Wisconsin   \n",
       "3                                        We Energies                Wisconsin   \n",
       "4                         Tennessee Valley Authority     Nashville, Tennessee   \n",
       "5                         Tennessee Valley Authority     Nashville, Tennessee   \n",
       "6  Public Utility District No.1 of Snohomish Coun...               Washington   \n",
       "7                                  Detroit Edison Co       Southeast Michigan   \n",
       "8                                        Xcel Energy        Central Minnesota   \n",
       "9                       Luminant Energy Company, LLC  Somervell County, Texas   \n",
       "\n",
       "  NERC Region Demand Loss (MW) Number of Customers Affected  \\\n",
       "0         RFC          Unknown                      420,000   \n",
       "1         RFC          Unknown                      127,000   \n",
       "2         MRO              424                      120,000   \n",
       "3         MRO          Unknown                      Unknown   \n",
       "4        SERC          Unknown                      Unknown   \n",
       "5        SERC          Unknown                      Unknown   \n",
       "6        WECC          Unknown                      Unknown   \n",
       "7         RFC          Unknown                      138,802   \n",
       "8         MRO          Unknown                       55,951   \n",
       "9       ERCOT          Unknown                      Unknown   \n",
       "\n",
       "                           Tags  \n",
       "0  severe weather, thunderstorm  \n",
       "1  severe weather, thunderstorm  \n",
       "2  severe weather, thunderstorm  \n",
       "3   fuel supply emergency, coal  \n",
       "4           vandalism, physical  \n",
       "5           vandalism, physical  \n",
       "6           vandalism, physical  \n",
       "7  severe weather, thunderstorm  \n",
       "8  severe weather, thunderstorm  \n",
       "9           vandalism, physical  "
      ]
     },
     "execution_count": 136,
     "metadata": {},
     "output_type": "execute_result"
    }
   ],
   "source": [
    "df.head(10)\n",
    "#df.sample(10)"
   ]
  },
  {
   "cell_type": "code",
   "execution_count": 137,
   "metadata": {},
   "outputs": [
    {
     "data": {
      "text/plain": [
       "(1652, 12)"
      ]
     },
     "execution_count": 137,
     "metadata": {},
     "output_type": "execute_result"
    }
   ],
   "source": [
    "df.shape"
   ]
  },
  {
   "cell_type": "markdown",
   "metadata": {},
   "source": [
    "our dataset 'GridDisruption' has 1652 records with each 12 columns  \n",
    "are there missing entries ?"
   ]
  },
  {
   "cell_type": "code",
   "execution_count": 138,
   "metadata": {},
   "outputs": [
    {
     "name": "stdout",
     "output_type": "stream",
     "text": [
      "(1652, 12)\n",
      "(1193, 12)\n"
     ]
    }
   ],
   "source": [
    "df2 = df.dropna(how='all')\n",
    "print(df2.shape)\n",
    "df2 = df.dropna(how='any')\n",
    "print(df2.shape)"
   ]
  },
  {
   "cell_type": "markdown",
   "metadata": {},
   "source": [
    "we don't have records where **all** fields are empty \n",
    "but we have 459 records with at least one missing entry  "
   ]
  },
  {
   "cell_type": "code",
   "execution_count": 139,
   "metadata": {},
   "outputs": [
    {
     "name": "stdout",
     "output_type": "stream",
     "text": [
      "Event Description                 0\n",
      "Year                              0\n",
      "Date Event Began                  0\n",
      "Time Event Began                  9\n",
      "Date of Restoration              14\n",
      "Time of Restoration              20\n",
      "Respondent                        0\n",
      "Geographic Areas                  1\n",
      "NERC Region                       2\n",
      "Demand Loss (MW)                398\n",
      "Number of Customers Affected    214\n",
      "Tags                              1\n",
      "dtype: int64\n",
      "missing entries: 659\n"
     ]
    }
   ],
   "source": [
    "print(df.isnull().sum())\n",
    "print(\"missing entries: \" + str(df.isnull().sum().sum()))"
   ]
  },
  {
   "cell_type": "markdown",
   "metadata": {},
   "source": [
    "overall we have 659 missing values, the table shows the affected columns  \n",
    "there are a lot of entries with 'Unknown' at fields 'Demand Loss' and 'Number of Customers Affected'  \n",
    "or entries with 'Ongoing' at fields 'Date..' and 'Time of Restauration'  \n",
    "we will replace these entries with np.NaN and remove them using dropna()"
   ]
  },
  {
   "cell_type": "code",
   "execution_count": 140,
   "metadata": {},
   "outputs": [],
   "source": [
    "df.replace('Unknown', np.nan, inplace=True)\n",
    "df.replace('Ongoing', np.nan, inplace=True)"
   ]
  },
  {
   "cell_type": "code",
   "execution_count": 141,
   "metadata": {},
   "outputs": [
    {
     "data": {
      "text/plain": [
       "Event Description               False\n",
       "Year                            False\n",
       "Date Event Began                False\n",
       "Time Event Began                 True\n",
       "Date of Restoration              True\n",
       "Time of Restoration              True\n",
       "Respondent                      False\n",
       "Geographic Areas                 True\n",
       "NERC Region                      True\n",
       "Demand Loss (MW)                 True\n",
       "Number of Customers Affected     True\n",
       "Tags                             True\n",
       "dtype: bool"
      ]
     },
     "execution_count": 141,
     "metadata": {},
     "output_type": "execute_result"
    }
   ],
   "source": [
    "df.isnull().any()"
   ]
  },
  {
   "cell_type": "markdown",
   "metadata": {},
   "source": [
    "let's see where are the errors:"
   ]
  },
  {
   "cell_type": "code",
   "execution_count": 142,
   "metadata": {},
   "outputs": [
    {
     "name": "stdout",
     "output_type": "stream",
     "text": [
      "Total number of rows: 1652\n",
      "Number of empty values:\n",
      " * Event Description: 0\n",
      " * Year: 0\n",
      " * Date Event Began: 0\n",
      " * Time Event Began: 10\n",
      " * Date of Restoration: 34\n",
      " * Time of Restoration: 40\n",
      " * Respondent: 0\n",
      " * Geographic Areas: 9\n",
      " * NERC Region: 2\n",
      " * Demand Loss (MW): 605\n",
      " * Number of Customers Affected: 359\n",
      " * Tags: 1\n"
     ]
    }
   ],
   "source": [
    "print(\"Total number of rows: \" + str(len(df.index)))\n",
    "print(\"Number of empty values:\")\n",
    "for column in df.columns:\n",
    "    print(\" * \" + column + \": \" + str(df[column].isnull().sum()))"
   ]
  },
  {
   "cell_type": "code",
   "execution_count": 143,
   "metadata": {},
   "outputs": [],
   "source": [
    "df = df.dropna(how='any')"
   ]
  },
  {
   "cell_type": "code",
   "execution_count": 144,
   "metadata": {},
   "outputs": [
    {
     "data": {
      "text/plain": [
       "(956, 12)"
      ]
     },
     "execution_count": 144,
     "metadata": {},
     "output_type": "execute_result"
    }
   ],
   "source": [
    "df.shape"
   ]
  },
  {
   "cell_type": "markdown",
   "metadata": {},
   "source": [
    "we lost 696 faulty records, 956 valid records are left:"
   ]
  },
  {
   "cell_type": "code",
   "execution_count": 145,
   "metadata": {},
   "outputs": [
    {
     "name": "stdout",
     "output_type": "stream",
     "text": [
      "Total number of rows: 956\n",
      "Number of empty values:\n",
      " * Event Description: 0\n",
      " * Year: 0\n",
      " * Date Event Began: 0\n",
      " * Time Event Began: 0\n",
      " * Date of Restoration: 0\n",
      " * Time of Restoration: 0\n",
      " * Respondent: 0\n",
      " * Geographic Areas: 0\n",
      " * NERC Region: 0\n",
      " * Demand Loss (MW): 0\n",
      " * Number of Customers Affected: 0\n",
      " * Tags: 0\n"
     ]
    }
   ],
   "source": [
    "print(\"Total number of rows: \" + str(len(df.index)))\n",
    "print(\"Number of empty values:\")\n",
    "for column in df.columns:\n",
    "    print(\" * \" + column + \": \" + str(df[column].isnull().sum()))"
   ]
  },
  {
   "cell_type": "markdown",
   "metadata": {},
   "source": [
    "  "
   ]
  },
  {
   "cell_type": "code",
   "execution_count": null,
   "metadata": {},
   "outputs": [],
   "source": []
  }
 ],
 "metadata": {
  "celltoolbar": "Raw Cell Format",
  "kernelspec": {
   "display_name": "Python 3",
   "language": "python",
   "name": "python3"
  },
  "language_info": {
   "codemirror_mode": {
    "name": "ipython",
    "version": 3
   },
   "file_extension": ".py",
   "mimetype": "text/x-python",
   "name": "python",
   "nbconvert_exporter": "python",
   "pygments_lexer": "ipython3",
   "version": "3.6.4"
  }
 },
 "nbformat": 4,
 "nbformat_minor": 2
}
